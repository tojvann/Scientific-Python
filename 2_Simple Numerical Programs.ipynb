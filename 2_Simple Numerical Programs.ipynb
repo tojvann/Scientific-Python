{
 "cells": [
  {
   "cell_type": "markdown",
   "metadata": {},
   "source": [
    "## Exhaustive Enumeration:\n",
    "\n",
    "`Example:`\n",
    "\n",
    "Write a program that prints integer cuberoot, if it exists, of an integer. If the\n",
    "input is not a perfect cube, it prints a message to that effect."
   ]
  },
  {
   "cell_type": "code",
   "execution_count": 7,
   "metadata": {},
   "outputs": [
    {
     "name": "stdout",
     "output_type": "stream",
     "text": [
      "Enter an integer: 7406961012236344616\n",
      "Cube root of  7406961012236344616  is  1949306\n",
      "CPU times: user 677 ms, sys: 0 ns, total: 677 ms\n",
      "Wall time: 3 s\n"
     ]
    }
   ],
   "source": [
    "%%time\n",
    "x = int(input('Enter an integer: '))\n",
    "ans = 0\n",
    "while ans**3 < abs(x):\n",
    "    ans += 1\n",
    "if ans**3 != abs(x):\n",
    "    print(x, 'is not a perfect cube')\n",
    "else:\n",
    "    if x < 0:\n",
    "        ans = -ans\n",
    "    print('Cube root of ', x , ' is ', ans)"
   ]
  },
  {
   "cell_type": "markdown",
   "metadata": {},
   "source": [
    "The algorithmic technique used in this program is a variant of guess and\n",
    "check called exhaustive enumeration. We enumerate all possibilities until we get\n",
    "to the right answer or exhaust the space of possibilities."
   ]
  },
  {
   "cell_type": "markdown",
   "metadata": {},
   "source": [
    "`Exercise:`\n",
    "\n",
    "Write a program that asks the user to enter an integer and prints\n",
    "two integers, root and pwr , such that 0 < pwr < 6 and root\\*\\*pwr is equal to the integer entered by the user. If no such pair of integers exists, it should print a message to that effect."
   ]
  },
  {
   "cell_type": "code",
   "execution_count": 23,
   "metadata": {},
   "outputs": [
    {
     "name": "stdout",
     "output_type": "stream",
     "text": [
      "Enter an Integer: 14348907\n",
      "27 5\n"
     ]
    }
   ],
   "source": [
    "x = int(input('Enter an Integer: '))\n",
    "root = 1\n",
    "pwr = 0\n",
    "while root <= x:\n",
    "    pwr = 0\n",
    "    while root**pwr <= x and pwr < 6:\n",
    "            pwr += 1\n",
    "            #print(root**pwr)\n",
    "            if root**pwr == x:\n",
    "                print(root, pwr)\n",
    "                break   \n",
    "    if root**pwr == x:\n",
    "        break\n",
    "    else:    \n",
    "        root += 1    "
   ]
  },
  {
   "cell_type": "markdown",
   "metadata": {},
   "source": [
    "## For Loops\n",
    "\n",
    "```\n",
    "for variable in sequence:\n",
    "   code block    \n",
    "```\n",
    "\n",
    "The variable following for is bound to the first value in the sequence, and the\n",
    "code block is executed. The variable is then assigned the second value in the se-\n",
    "quence, and the code block is executed again. The process continues until the se-\n",
    "quence is exhausted or a break statement is executed within the code block.\n",
    "\n",
    "The sequence of values bound to variable is most commonly generated using\n",
    "the built-in function range , which returns a series of integers. The range function\n",
    "takes three integer arguments: start , stop , and step . It produces the progression\n",
    "start, start + step, start + 2\\*step, etc. If step is positive, the last element is the\n",
    "largest integer start + i\\*step less than stop . If step is negative, the last element is\n",
    "the smallest integer start + i\\*step greater than stop .\n",
    "\n",
    "If the first argument is omitted it defaults to 0 , and\n",
    "if the last argument (the step size) is omitted it defaults to 1 . For example,\n",
    "range(0, 3) and range(3) both produce the sequence 0, 1, 2 .\n",
    "\n",
    "> The numbers in the\n",
    "progression are generated on an “as needed” basis, so even expressions such as\n",
    "range(1000000) consume little memory."
   ]
  },
  {
   "cell_type": "code",
   "execution_count": 25,
   "metadata": {},
   "outputs": [
    {
     "name": "stdout",
     "output_type": "stream",
     "text": [
      "0\n",
      "1\n",
      "2\n",
      "3\n"
     ]
    }
   ],
   "source": [
    "x = 4\n",
    "for i in range(0, x):\n",
    "    print(i)"
   ]
  },
  {
   "cell_type": "markdown",
   "metadata": {},
   "source": [
    "NOTE:"
   ]
  },
  {
   "cell_type": "code",
   "execution_count": 26,
   "metadata": {},
   "outputs": [
    {
     "name": "stdout",
     "output_type": "stream",
     "text": [
      "0\n",
      "1\n",
      "2\n",
      "3\n"
     ]
    }
   ],
   "source": [
    "x = 4\n",
    "for i in range(0, x):\n",
    "    print(i)\n",
    "    x = 5"
   ]
  },
  {
   "cell_type": "markdown",
   "metadata": {},
   "source": [
    "It raises the question of whether changing the value of x inside the loop affects the number of iterations. It does not. `The arguments to the range function in the line with for are evaluated just before the first iteration of the loop, and not reevaluated for subsequent iterations`."
   ]
  },
  {
   "cell_type": "code",
   "execution_count": 27,
   "metadata": {},
   "outputs": [
    {
     "name": "stdout",
     "output_type": "stream",
     "text": [
      "0\n",
      "1\n",
      "2\n",
      "3\n",
      "0\n",
      "1\n",
      "0\n",
      "1\n",
      "0\n",
      "1\n"
     ]
    }
   ],
   "source": [
    "x = 4\n",
    "for j in range(x):\n",
    "    for i in range(x):\n",
    "        print(i)\n",
    "        x = 2"
   ]
  },
  {
   "cell_type": "markdown",
   "metadata": {},
   "source": [
    "the range function in the outer loop is evaluated only once, but the range\n",
    "function in the inner loop is evaluated each time the inner for statement is\n",
    "reached."
   ]
  },
  {
   "cell_type": "code",
   "execution_count": 33,
   "metadata": {},
   "outputs": [
    {
     "name": "stdout",
     "output_type": "stream",
     "text": [
      "Enter an integer: -27\n",
      "Cube root of -27 is -3\n"
     ]
    }
   ],
   "source": [
    "#Find the cube root of a perfect cube\n",
    "x = int(input('Enter an integer: '))\n",
    "for ans in range(0, abs(x)+1):\n",
    "    if ans**3 >= abs(x):\n",
    "        break\n",
    "if ans**3 != abs(x):\n",
    "    print(x, 'is not a perfect cube')\n",
    "else:\n",
    "    if x < 0:\n",
    "        ans = -ans\n",
    "print('Cube root of', x,'is', ans)"
   ]
  },
  {
   "cell_type": "markdown",
   "metadata": {},
   "source": [
    "The for statement can be used in conjunction with the in operator to conven-\n",
    "iently iterate over characters of a string. For example,"
   ]
  },
  {
   "cell_type": "code",
   "execution_count": 35,
   "metadata": {},
   "outputs": [
    {
     "name": "stdout",
     "output_type": "stream",
     "text": [
      "15\n"
     ]
    }
   ],
   "source": [
    "total = 0\n",
    "for c in '12345':\n",
    "    total += int(c)\n",
    "print(total)    "
   ]
  },
  {
   "cell_type": "markdown",
   "metadata": {},
   "source": [
    "`Exercise:` \n",
    "\n",
    "Let s be a string that contains a sequence of decimal numbers\n",
    "separated by commas, e.g., s = '1.23,2.4,3.123' . Write a program that prints the\n",
    "sum of the numbers in s ."
   ]
  },
  {
   "cell_type": "code",
   "execution_count": 38,
   "metadata": {},
   "outputs": [
    {
     "name": "stdout",
     "output_type": "stream",
     "text": [
      "6.753\n"
     ]
    }
   ],
   "source": [
    "s = '1.23,2.4,3.123'\n",
    "numbers = s.split(',')\n",
    "sum = 0\n",
    "for i in numbers:\n",
    "    sum += float(i)\n",
    "print(sum)    "
   ]
  },
  {
   "cell_type": "markdown",
   "metadata": {},
   "source": [
    "## Approximate Solutions and Bisection Search\n",
    "\n",
    "Approximating the Square Root using Exhaustive Enumeration.\n"
   ]
  },
  {
   "cell_type": "code",
   "execution_count": 45,
   "metadata": {},
   "outputs": [
    {
     "name": "stdout",
     "output_type": "stream",
     "text": [
      "Enter an integer:3\n",
      "Square root of 3 is 1.729199999999826 . Number of Guesses is 17292\n"
     ]
    }
   ],
   "source": [
    "x = int(input('Enter an integer:'))\n",
    "epsilon = 0.01\n",
    "step = epsilon**2;\n",
    "numGuesses =0\n",
    "ans = 0.0\n",
    "while abs(ans**2 - x) >= epsilon and ans <= x:\n",
    "    ans += step\n",
    "    numGuesses += 1\n",
    "if abs(ans**2 - x) >= epsilon:  \n",
    "    print('Failed to find the square root of', x)\n",
    "else:\n",
    "    print('Square root of',x,'is',ans,'. Number of Guesses is',numGuesses)"
   ]
  },
  {
   "cell_type": "markdown",
   "metadata": {},
   "source": [
    "> It is often the case that the best way to solve a problem with a computer is quite differ-\n",
    "ent from how one would approach the problem by hand."
   ]
  },
  {
   "cell_type": "markdown",
   "metadata": {},
   "source": [
    "Analysing the above program:\n"
   ]
  },
  {
   "cell_type": "code",
   "execution_count": 59,
   "metadata": {},
   "outputs": [
    {
     "name": "stdout",
     "output_type": "stream",
     "text": [
      "Enter an integer:0.25\n",
      "Failed to find the square root of 0.25\n"
     ]
    }
   ],
   "source": [
    "x = float(input('Enter an integer:'))\n",
    "epsilon = 0.01\n",
    "step = epsilon**2;\n",
    "numGuesses =0\n",
    "ans = 0.0\n",
    "while abs(ans**2 - x) >= epsilon and ans <= x:\n",
    "    #print(ans)\n",
    "    ans += step\n",
    "    numGuesses += 1\n",
    "if abs(ans**2 - x) >= epsilon:  \n",
    "    print('Failed to find the square root of', x)\n",
    "else:\n",
    "    print('Square root of',x,'is',ans,'. Number of Guesses is',numGuesses)"
   ]
  },
  {
   "cell_type": "markdown",
   "metadata": {},
   "source": [
    "Note: the flow of program in case of 0.25. The problem in the above program why it failed to calculate the square root is as follows\n",
    "```\n",
    "ans <= x\n",
    "```\n",
    "the square root of 0.25 is 0.5 which is greater than the number. Notice in case the number lies between 0 - 1. The square root of the number is greater than the number.\n",
    "\n",
    "> Exhaustive enumeration is a search technique that works only if the set of\n",
    "values being searched includes the answer.\n",
    "\n",
    "<img src=\"https://i.imgur.com/oRV76lR.png\" width=\"600\" height=\"400\" align=\"middle\">\n",
    "\n",
    "__Note:__ it is not a straight line between 0 to 1.\n",
    "\n",
    "In order to solve this problem we need to slightly modify the code by just changing the conditional\n",
    "\n",
    "```\n",
    "ans * ans <= x\n",
    "```\n"
   ]
  },
  {
   "cell_type": "code",
   "execution_count": 49,
   "metadata": {},
   "outputs": [
    {
     "name": "stdout",
     "output_type": "stream",
     "text": [
      "Enter an integer:0.25\n",
      "Square root of 0.25 is 0.48989999999996237 . Number of Guesses is 4899\n"
     ]
    }
   ],
   "source": [
    "x = float(input('Enter an integer:'))\n",
    "epsilon = 0.01\n",
    "step = epsilon**2;\n",
    "numGuesses =0\n",
    "ans = 0.0\n",
    "while abs(ans**2 - x) >= epsilon and ans*ans <= x:\n",
    "    ans += step\n",
    "    numGuesses += 1\n",
    "if abs(ans**2 - x) >= epsilon:  \n",
    "    print('Failed to find the square root of', x)\n",
    "else:\n",
    "    print('Square root of',x,'is',ans,'. Number of Guesses is',numGuesses)"
   ]
  },
  {
   "cell_type": "code",
   "execution_count": 58,
   "metadata": {},
   "outputs": [
    {
     "name": "stdout",
     "output_type": "stream",
     "text": [
      "Enter an integer:123456\n",
      "Failed to find the square root of 123456.0\n",
      "CPU times: user 1.18 s, sys: 0 ns, total: 1.18 s\n",
      "Wall time: 3.6 s\n"
     ]
    }
   ],
   "source": [
    "%%time\n",
    "x = float(input('Enter an integer:'))\n",
    "epsilon = 0.01\n",
    "step = epsilon**2;\n",
    "numGuesses =0\n",
    "ans = 0.0\n",
    "while abs(ans**2 - x) >= epsilon and ans*ans <= x:\n",
    "    #print(ans)\n",
    "    ans += step\n",
    "    numGuesses += 1\n",
    "if abs(ans**2 - x) >= epsilon:  \n",
    "    print('Failed to find the square root of', x)\n",
    "else:\n",
    "    print('Square root of',x,'is',ans,'. Number of Guesses is',numGuesses)"
   ]
  },
  {
   "cell_type": "markdown",
   "metadata": {},
   "source": [
    "The problem is that our step size was too large, and the program\n",
    "skipped over all the suitable answers.\n",
    "\n",
    "Solution increase the sestivity i.e. step = epsilon**3"
   ]
  },
  {
   "cell_type": "code",
   "execution_count": 55,
   "metadata": {
    "scrolled": false
   },
   "outputs": [
    {
     "name": "stdout",
     "output_type": "stream",
     "text": [
      "Enter an integer:123456\n",
      "Square root of 123456.0 is 351.36304620491023 . Number of Guesses is 351363047\n",
      "CPU times: user 1min 57s, sys: 0 ns, total: 1min 57s\n",
      "Wall time: 1min 59s\n"
     ]
    }
   ],
   "source": [
    "%%time\n",
    "x = float(input('Enter an integer:'))\n",
    "epsilon = 0.01\n",
    "step = epsilon**3;\n",
    "numGuesses =0\n",
    "ans = 0.0\n",
    "while abs(ans**2 - x) >= epsilon and ans*ans <= x:\n",
    "    #print(ans)\n",
    "    ans += step\n",
    "    numGuesses += 1\n",
    "if abs(ans**2 - x) >= epsilon:  \n",
    "    print('Failed to find the square root of', x)\n",
    "else:\n",
    "    print('Square root of',x,'is',ans,'. Number of Guesses is',numGuesses)"
   ]
  },
  {
   "cell_type": "markdown",
   "metadata": {},
   "source": [
    "## Bisection Search to approximate Square Root\n"
   ]
  },
  {
   "cell_type": "code",
   "execution_count": 61,
   "metadata": {},
   "outputs": [
    {
     "name": "stdout",
     "output_type": "stream",
     "text": [
      "Enter an Integer: 0.25\n",
      "The square root of 0.25 is 0.5 . It took 0 Guesses.\n"
     ]
    }
   ],
   "source": [
    "x = float(input('Enter an Integer: '))\n",
    "epsilon = 0.01\n",
    "numGuesses = 0\n",
    "low = 0\n",
    "high = max(1.0, x)\n",
    "ans = (high + low) / 2.0\n",
    "while abs(ans**2 - x) >= epsilon:\n",
    "    print('low =', low, 'high=', high, 'ans=', ans)\n",
    "    numGuesses += 1\n",
    "    if ans**2 < x:\n",
    "        low = ans\n",
    "    else:\n",
    "        high = ans\n",
    "    ans = (high + low) / 2.0\n",
    "print('The square root of', x, 'is', ans, '. It took',numGuesses, 'Guesses.')    "
   ]
  },
  {
   "cell_type": "code",
   "execution_count": 63,
   "metadata": {},
   "outputs": [
    {
     "name": "stdout",
     "output_type": "stream",
     "text": [
      "Enter an Integer: 123456\n",
      "low = 0 high= 123456.0 ans= 61728.0\n",
      "low = 0 high= 61728.0 ans= 30864.0\n",
      "low = 0 high= 30864.0 ans= 15432.0\n",
      "low = 0 high= 15432.0 ans= 7716.0\n",
      "low = 0 high= 7716.0 ans= 3858.0\n",
      "low = 0 high= 3858.0 ans= 1929.0\n",
      "low = 0 high= 1929.0 ans= 964.5\n",
      "low = 0 high= 964.5 ans= 482.25\n",
      "low = 0 high= 482.25 ans= 241.125\n",
      "low = 241.125 high= 482.25 ans= 361.6875\n",
      "low = 241.125 high= 361.6875 ans= 301.40625\n",
      "low = 301.40625 high= 361.6875 ans= 331.546875\n",
      "low = 331.546875 high= 361.6875 ans= 346.6171875\n",
      "low = 346.6171875 high= 361.6875 ans= 354.15234375\n",
      "low = 346.6171875 high= 354.15234375 ans= 350.384765625\n",
      "low = 350.384765625 high= 354.15234375 ans= 352.2685546875\n",
      "low = 350.384765625 high= 352.2685546875 ans= 351.32666015625\n",
      "low = 351.32666015625 high= 352.2685546875 ans= 351.797607421875\n",
      "low = 351.32666015625 high= 351.797607421875 ans= 351.5621337890625\n",
      "low = 351.32666015625 high= 351.5621337890625 ans= 351.44439697265625\n",
      "low = 351.32666015625 high= 351.44439697265625 ans= 351.3855285644531\n",
      "low = 351.32666015625 high= 351.3855285644531 ans= 351.35609436035156\n",
      "low = 351.35609436035156 high= 351.3855285644531 ans= 351.37081146240234\n",
      "low = 351.35609436035156 high= 351.37081146240234 ans= 351.36345291137695\n",
      "low = 351.35609436035156 high= 351.36345291137695 ans= 351.35977363586426\n",
      "low = 351.35977363586426 high= 351.36345291137695 ans= 351.3616132736206\n",
      "low = 351.3616132736206 high= 351.36345291137695 ans= 351.3625330924988\n",
      "low = 351.3625330924988 high= 351.36345291137695 ans= 351.36299300193787\n",
      "low = 351.36299300193787 high= 351.36345291137695 ans= 351.3632229566574\n",
      "low = 351.36299300193787 high= 351.3632229566574 ans= 351.36310797929764\n",
      "The square root of 123456.0 is 351.36305049061775 . It took 30 Guesses.\n",
      "CPU times: user 67.6 ms, sys: 11.8 ms, total: 79.4 ms\n",
      "Wall time: 2.34 s\n"
     ]
    }
   ],
   "source": [
    "%%time\n",
    "x = float(input('Enter an Integer: '))\n",
    "epsilon = 0.01\n",
    "numGuesses = 0\n",
    "low = 0\n",
    "high = max(1.0, x)\n",
    "ans = (high + low) / 2.0\n",
    "while abs(ans**2 - x) >= epsilon:\n",
    "    print('low =', low, 'high=', high, 'ans=', ans)\n",
    "    numGuesses += 1\n",
    "    if ans**2 < x:\n",
    "        low = ans\n",
    "    else:\n",
    "        high = ans\n",
    "    ans = (high + low) / 2.0\n",
    "print('The square root of', x, 'is', ans, '. It took',numGuesses, 'Guesses.')   "
   ]
  },
  {
   "cell_type": "markdown",
   "metadata": {},
   "source": [
    "Notice that it finds a different answer than our earlier algorithm. That is perfectly\n",
    "fine, since it still meets the problem’s specification.\n",
    "\n",
    "`Note: the reduction in CPU time, This is what is called reducing the algorithmic Complexity.`"
   ]
  },
  {
   "cell_type": "code",
   "execution_count": null,
   "metadata": {},
   "outputs": [],
   "source": []
  }
 ],
 "metadata": {
  "kernelspec": {
   "display_name": "Python 3",
   "language": "python",
   "name": "python3"
  },
  "language_info": {
   "codemirror_mode": {
    "name": "ipython",
    "version": 3
   },
   "file_extension": ".py",
   "mimetype": "text/x-python",
   "name": "python",
   "nbconvert_exporter": "python",
   "pygments_lexer": "ipython3",
   "version": "3.7.5"
  }
 },
 "nbformat": 4,
 "nbformat_minor": 2
}
