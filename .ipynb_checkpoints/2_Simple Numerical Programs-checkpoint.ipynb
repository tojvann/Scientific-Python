{
 "cells": [
  {
   "cell_type": "markdown",
   "metadata": {},
   "source": [
    "## Exhaustive Enumeration:\n",
    "\n",
    "`Example:`\n",
    "\n",
    "Write a program that prints integer cuberoot, if it exists, of an integer. If the\n",
    "input is not a perfect cube, it prints a message to that effect."
   ]
  },
  {
   "cell_type": "code",
   "execution_count": 7,
   "metadata": {},
   "outputs": [
    {
     "name": "stdout",
     "output_type": "stream",
     "text": [
      "Enter an integer: 7406961012236344616\n",
      "Cube root of  7406961012236344616  is  1949306\n",
      "CPU times: user 677 ms, sys: 0 ns, total: 677 ms\n",
      "Wall time: 3 s\n"
     ]
    }
   ],
   "source": [
    "%%time\n",
    "x = int(input('Enter an integer: '))\n",
    "ans = 0\n",
    "while ans**3 < abs(x):\n",
    "    ans += 1\n",
    "if ans**3 != abs(x):\n",
    "    print(x, 'is not a perfect cube')\n",
    "else:\n",
    "    if x < 0:\n",
    "        ans = -ans\n",
    "    print('Cube root of ', x , ' is ', ans)"
   ]
  },
  {
   "cell_type": "markdown",
   "metadata": {},
   "source": [
    "The algorithmic technique used in this program is a variant of guess and\n",
    "check called exhaustive enumeration. We enumerate all possibilities until we get\n",
    "to the right answer or exhaust the space of possibilities."
   ]
  },
  {
   "cell_type": "markdown",
   "metadata": {},
   "source": [
    "`Exercise:`\n",
    "\n",
    "Write a program that asks the user to enter an integer and prints\n",
    "two integers, root and pwr , such that 0 < pwr < 6 and root\\*\\*pwr is equal to the integer entered by the user. If no such pair of integers exists, it should print a message to that effect."
   ]
  },
  {
   "cell_type": "code",
   "execution_count": 23,
   "metadata": {},
   "outputs": [
    {
     "name": "stdout",
     "output_type": "stream",
     "text": [
      "Enter an Integer: 14348907\n",
      "27 5\n"
     ]
    }
   ],
   "source": [
    "x = int(input('Enter an Integer: '))\n",
    "root = 1\n",
    "pwr = 0\n",
    "while root <= x:\n",
    "    pwr = 0\n",
    "    while root**pwr <= x and pwr < 6:\n",
    "            pwr += 1\n",
    "            #print(root**pwr)\n",
    "            if root**pwr == x:\n",
    "                print(root, pwr)\n",
    "                break   \n",
    "    if root**pwr == x:\n",
    "        break\n",
    "    else:    \n",
    "        root += 1    "
   ]
  }
 ],
 "metadata": {
  "kernelspec": {
   "display_name": "Python 3",
   "language": "python",
   "name": "python3"
  },
  "language_info": {
   "codemirror_mode": {
    "name": "ipython",
    "version": 3
   },
   "file_extension": ".py",
   "mimetype": "text/x-python",
   "name": "python",
   "nbconvert_exporter": "python",
   "pygments_lexer": "ipython3",
   "version": "3.7.5"
  }
 },
 "nbformat": 4,
 "nbformat_minor": 2
}
