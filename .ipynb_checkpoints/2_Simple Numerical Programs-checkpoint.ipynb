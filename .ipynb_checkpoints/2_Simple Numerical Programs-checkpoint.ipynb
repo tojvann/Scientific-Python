{
 "cells": [
  {
   "cell_type": "markdown",
   "metadata": {},
   "source": [
    "## Exhaustive Enumeration:\n",
    "\n",
    "`Example:`\n",
    "\n",
    "Write a program that prints integer cuberoot, if it exists, of an integer. If the\n",
    "input is not a perfect cube, it prints a message to that effect."
   ]
  },
  {
   "cell_type": "code",
   "execution_count": 7,
   "metadata": {},
   "outputs": [
    {
     "name": "stdout",
     "output_type": "stream",
     "text": [
      "Enter an integer: 7406961012236344616\n",
      "Cube root of  7406961012236344616  is  1949306\n",
      "CPU times: user 677 ms, sys: 0 ns, total: 677 ms\n",
      "Wall time: 3 s\n"
     ]
    }
   ],
   "source": [
    "%%time\n",
    "x = int(input('Enter an integer: '))\n",
    "ans = 0\n",
    "while ans**3 < abs(x):\n",
    "    ans += 1\n",
    "if ans**3 != abs(x):\n",
    "    print(x, 'is not a perfect cube')\n",
    "else:\n",
    "    if x < 0:\n",
    "        ans = -ans\n",
    "    print('Cube root of ', x , ' is ', ans)"
   ]
  },
  {
   "cell_type": "markdown",
   "metadata": {},
   "source": [
    "The algorithmic technique used in this program is a variant of guess and\n",
    "check called exhaustive enumeration. We enumerate all possibilities until we get\n",
    "to the right answer or exhaust the space of possibilities."
   ]
  },
  {
   "cell_type": "markdown",
   "metadata": {},
   "source": [
    "`Exercise:`\n",
    "\n",
    "Write a program that asks the user to enter an integer and prints\n",
    "two integers, root and pwr , such that 0 < pwr < 6 and root\\*\\*pwr is equal to the integer entered by the user. If no such pair of integers exists, it should print a message to that effect."
   ]
  },
  {
   "cell_type": "code",
   "execution_count": 23,
   "metadata": {},
   "outputs": [
    {
     "name": "stdout",
     "output_type": "stream",
     "text": [
      "Enter an Integer: 14348907\n",
      "27 5\n"
     ]
    }
   ],
   "source": [
    "x = int(input('Enter an Integer: '))\n",
    "root = 1\n",
    "pwr = 0\n",
    "while root <= x:\n",
    "    pwr = 0\n",
    "    while root**pwr <= x and pwr < 6:\n",
    "            pwr += 1\n",
    "            #print(root**pwr)\n",
    "            if root**pwr == x:\n",
    "                print(root, pwr)\n",
    "                break   \n",
    "    if root**pwr == x:\n",
    "        break\n",
    "    else:    \n",
    "        root += 1    "
   ]
  },
  {
   "cell_type": "markdown",
   "metadata": {},
   "source": [
    "## For Loops\n",
    "\n",
    "```\n",
    "for variable in sequence:\n",
    "   code block    \n",
    "```\n",
    "\n",
    "The variable following for is bound to the first value in the sequence, and the\n",
    "code block is executed. The variable is then assigned the second value in the se-\n",
    "quence, and the code block is executed again. The process continues until the se-\n",
    "quence is exhausted or a break statement is executed within the code block.\n",
    "\n",
    "The sequence of values bound to variable is most commonly generated using\n",
    "the built-in function range , which returns a series of integers. The range function\n",
    "takes three integer arguments: start , stop , and step . It produces the progression\n",
    "start, start + step, start + 2\\*step, etc. If step is positive, the last element is the\n",
    "largest integer start + i\\*step less than stop . If step is negative, the last element is\n",
    "the smallest integer start + i\\*step greater than stop .\n",
    "\n",
    "If the first argument is omitted it defaults to 0 , and\n",
    "if the last argument (the step size) is omitted it defaults to 1 . For example,\n",
    "range(0, 3) and range(3) both produce the sequence 0, 1, 2 .\n",
    "\n",
    "> The numbers in the\n",
    "progression are generated on an “as needed” basis, so even expressions such as\n",
    "range(1000000) consume little memory."
   ]
  },
  {
   "cell_type": "code",
   "execution_count": 25,
   "metadata": {},
   "outputs": [
    {
     "name": "stdout",
     "output_type": "stream",
     "text": [
      "0\n",
      "1\n",
      "2\n",
      "3\n"
     ]
    }
   ],
   "source": [
    "x = 4\n",
    "for i in range(0, x):\n",
    "    print(i)"
   ]
  },
  {
   "cell_type": "markdown",
   "metadata": {},
   "source": [
    "NOTE:"
   ]
  },
  {
   "cell_type": "code",
   "execution_count": 26,
   "metadata": {},
   "outputs": [
    {
     "name": "stdout",
     "output_type": "stream",
     "text": [
      "0\n",
      "1\n",
      "2\n",
      "3\n"
     ]
    }
   ],
   "source": [
    "x = 4\n",
    "for i in range(0, x):\n",
    "    print(i)\n",
    "    x = 5"
   ]
  },
  {
   "cell_type": "markdown",
   "metadata": {},
   "source": [
    "It raises the question of whether changing the value of x inside the loop affects the number of iterations. It does not. `The arguments to the range function in the line with for are evaluated just before the first iteration of the loop, and not reevaluated for subsequent iterations`."
   ]
  },
  {
   "cell_type": "code",
   "execution_count": 27,
   "metadata": {},
   "outputs": [
    {
     "name": "stdout",
     "output_type": "stream",
     "text": [
      "0\n",
      "1\n",
      "2\n",
      "3\n",
      "0\n",
      "1\n",
      "0\n",
      "1\n",
      "0\n",
      "1\n"
     ]
    }
   ],
   "source": [
    "x = 4\n",
    "for j in range(x):\n",
    "    for i in range(x):\n",
    "        print(i)\n",
    "        x = 2"
   ]
  },
  {
   "cell_type": "markdown",
   "metadata": {},
   "source": [
    "the range function in the outer loop is evaluated only once, but the range\n",
    "function in the inner loop is evaluated each time the inner for statement is\n",
    "reached."
   ]
  },
  {
   "cell_type": "code",
   "execution_count": 33,
   "metadata": {},
   "outputs": [
    {
     "name": "stdout",
     "output_type": "stream",
     "text": [
      "Enter an integer: -27\n",
      "Cube root of -27 is -3\n"
     ]
    }
   ],
   "source": [
    "#Find the cube root of a perfect cube\n",
    "x = int(input('Enter an integer: '))\n",
    "for ans in range(0, abs(x)+1):\n",
    "    if ans**3 >= abs(x):\n",
    "        break\n",
    "if ans**3 != abs(x):\n",
    "    print(x, 'is not a perfect cube')\n",
    "else:\n",
    "    if x < 0:\n",
    "        ans = -ans\n",
    "print('Cube root of', x,'is', ans)"
   ]
  },
  {
   "cell_type": "markdown",
   "metadata": {},
   "source": [
    "The for statement can be used in conjunction with the in operator to conven-\n",
    "iently iterate over characters of a string. For example,"
   ]
  },
  {
   "cell_type": "code",
   "execution_count": 35,
   "metadata": {},
   "outputs": [
    {
     "name": "stdout",
     "output_type": "stream",
     "text": [
      "15\n"
     ]
    }
   ],
   "source": [
    "total = 0\n",
    "for c in '12345':\n",
    "    total += int(c)\n",
    "print(total)    "
   ]
  },
  {
   "cell_type": "code",
   "execution_count": null,
   "metadata": {},
   "outputs": [],
   "source": []
  }
 ],
 "metadata": {
  "kernelspec": {
   "display_name": "Python 3",
   "language": "python",
   "name": "python3"
  },
  "language_info": {
   "codemirror_mode": {
    "name": "ipython",
    "version": 3
   },
   "file_extension": ".py",
   "mimetype": "text/x-python",
   "name": "python",
   "nbconvert_exporter": "python",
   "pygments_lexer": "ipython3",
   "version": "3.7.5"
  }
 },
 "nbformat": 4,
 "nbformat_minor": 2
}
