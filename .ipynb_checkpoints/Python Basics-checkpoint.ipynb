{
 "cells": [
  {
   "attachments": {},
   "cell_type": "markdown",
   "metadata": {},
   "source": [
    "# Python Introduction\n",
    "\n",
    "## Why Scientific Programming?\n",
    "\n",
    "### How Programming help us?\n",
    "\n",
    "- Building and organizing Knowledge\n",
    "  - Eg: by building databases of scientific results\n",
    "\n",
    "- Test Explanation about our world\n",
    "  - Eg: by automating experiments\n",
    "\n",
    "- Systematically\n",
    "  - by reducing the risk of human error\n",
    "\n",
    "- Objectively\n",
    "  - Computers are not subject to human biases (however computer programs are)\n",
    "\n",
    "- Transparently\n",
    "  - By using opensource tools and sharing our analyses\n",
    "\n",
    "- Reproducibly\n",
    "  - by codifying our analyses we make them reproducible\n",
    "  \n",
    " ## Why python ?\n",
    " \n",
    " - ___Interpreted___ and ___dynamically typed___ language.\n",
    " - Great ecosystem and great community\n",
    " - ### Better than Matlab\n",
    "      - As a free and open source project you can save money and share your results.\n",
    " - ### Better than Java\n",
    "      - Get more done is less code and without overly complex object orientation.\n",
    " - ### Better than C++ (atleast for science)\n",
    "      - With a great ecosystem and community you can get stuff done, instead of tring to figure out documentation.\n",
    " - ### Better than R\n",
    "      - As a general purpose programming language you can do anything with Python not just Statistics.\n",
    " - ### Better than Julia\n",
    "      - Python is more versatile and mature. Julia is interesting if you write algorithms.\n",
    " \n"
   ]
  }
 ],
 "metadata": {
  "kernelspec": {
   "display_name": "Python 3",
   "language": "python",
   "name": "python3"
  },
  "language_info": {
   "codemirror_mode": {
    "name": "ipython",
    "version": 3
   },
   "file_extension": ".py",
   "mimetype": "text/x-python",
   "name": "python",
   "nbconvert_exporter": "python",
   "pygments_lexer": "ipython3",
   "version": "3.7.5"
  }
 },
 "nbformat": 4,
 "nbformat_minor": 2
}
