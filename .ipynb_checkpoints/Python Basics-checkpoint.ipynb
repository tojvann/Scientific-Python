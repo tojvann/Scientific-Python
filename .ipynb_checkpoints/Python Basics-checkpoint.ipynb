{
 "cells": [
  {
   "attachments": {},
   "cell_type": "markdown",
   "metadata": {},
   "source": [
    "# Python Introduction\n",
    "\n",
    "## Why Scientific Programming?\n",
    "\n",
    "### How Programming help us?\n",
    "\n",
    "- Building and organizing Knowledge\n",
    "  - Eg: by building databases of scientific results\n",
    "\n",
    "- Test Explanation about our world\n",
    "  - Eg: by automating experiments\n",
    "\n",
    "- Systematically\n",
    "  - by reducing the risk of human error\n",
    "\n",
    "- Objectively\n",
    "  - Computers are not subject to human biases (however computer programs are)\n",
    "\n",
    "- Transparently\n",
    "  - By using opensource tools and sharing our analyses\n",
    "\n",
    "- Reproducibly\n",
    "  - by codifying our analyses we make them reproducible\n",
    "  \n",
    " ## Why python ?\n",
    " \n",
    " - ___Interpreted___ and ___dynamically typed___ language.\n",
    " - Great ecosystem and great community\n",
    " - ### Better than Matlab\n",
    "      - As a free and open source project you can save money and share your results.\n",
    " - ### Better than Java\n",
    "      - Get more done is less code and without overly complex object orientation.\n",
    " - ### Better than C++ (atleast for science)\n",
    "      - With a great ecosystem and community you can get stuff done, instead of tring to figure out documentation.\n",
    " - ### Better than R\n",
    "      - As a general purpose programming language you can do anything with Python not just Statistics.\n",
    " - ### Better than Julia\n",
    "      - Python is more versatile and mature. Julia is interesting if you write algorithms.\n",
    " \n"
   ]
  },
  {
   "cell_type": "markdown",
   "metadata": {},
   "source": [
    "Program to get a user input and print it out."
   ]
  },
  {
   "cell_type": "code",
   "execution_count": 2,
   "metadata": {},
   "outputs": [
    {
     "name": "stdout",
     "output_type": "stream",
     "text": [
      "13.0\n"
     ]
    }
   ],
   "source": [
    "temp = 13.0\n",
    "print(temp)"
   ]
  },
  {
   "cell_type": "code",
   "execution_count": 3,
   "metadata": {},
   "outputs": [
    {
     "name": "stdout",
     "output_type": "stream",
     "text": [
      "Enter the temperture in celcius25\n",
      "25\n"
     ]
    }
   ],
   "source": [
    "temp = input('Enter the temperture in celcius')\n",
    "print(temp)"
   ]
  },
  {
   "cell_type": "code",
   "execution_count": 4,
   "metadata": {},
   "outputs": [
    {
     "name": "stdout",
     "output_type": "stream",
     "text": [
      "Enter the temperture in celcius25.0\n",
      "25.0\n"
     ]
    }
   ],
   "source": [
    "temp = input('Enter the temperture in celcius')\n",
    "print(temp)"
   ]
  },
  {
   "cell_type": "code",
   "execution_count": 5,
   "metadata": {},
   "outputs": [
    {
     "name": "stdout",
     "output_type": "stream",
     "text": [
      "Enter the temperture in celciusDenmark\n",
      "Denmark\n"
     ]
    }
   ],
   "source": [
    "temp = input('Enter the temperture in celcius')\n",
    "print(temp)"
   ]
  },
  {
   "cell_type": "markdown",
   "metadata": {},
   "source": [
    " ### `input([prompt])`¶\n",
    " If the prompt argument is present, it is written to standard output `without a trailing newline`. The function then reads a line from input, `converts it to a string (stripping a trailing newline)`, and returns that. When EOF is read, EOFError is raised. \n"
   ]
  },
  {
   "cell_type": "code",
   "execution_count": 6,
   "metadata": {},
   "outputs": [
    {
     "name": "stdout",
     "output_type": "stream",
     "text": [
      "Enter the temperature in celsiusDenmark\n"
     ]
    },
    {
     "ename": "ValueError",
     "evalue": "could not convert string to float: 'Denmark'",
     "output_type": "error",
     "traceback": [
      "\u001b[0;31m---------------------------------------------------------------------------\u001b[0m",
      "\u001b[0;31mValueError\u001b[0m                                Traceback (most recent call last)",
      "\u001b[0;32m<ipython-input-6-c10eca60121c>\u001b[0m in \u001b[0;36m<module>\u001b[0;34m\u001b[0m\n\u001b[0;32m----> 1\u001b[0;31m \u001b[0mtemp\u001b[0m \u001b[0;34m=\u001b[0m \u001b[0mfloat\u001b[0m\u001b[0;34m(\u001b[0m\u001b[0minput\u001b[0m\u001b[0;34m(\u001b[0m\u001b[0;34m'Enter the temperature in celsius'\u001b[0m\u001b[0;34m)\u001b[0m\u001b[0;34m)\u001b[0m\u001b[0;34m\u001b[0m\u001b[0;34m\u001b[0m\u001b[0m\n\u001b[0m\u001b[1;32m      2\u001b[0m \u001b[0mprint\u001b[0m\u001b[0;34m(\u001b[0m\u001b[0mtemp\u001b[0m\u001b[0;34m)\u001b[0m\u001b[0;34m\u001b[0m\u001b[0;34m\u001b[0m\u001b[0m\n",
      "\u001b[0;31mValueError\u001b[0m: could not convert string to float: 'Denmark'"
     ]
    }
   ],
   "source": [
    "temp = float(input('Enter the temperature in celsius'))\n",
    "print(temp)"
   ]
  },
  {
   "cell_type": "markdown",
   "metadata": {},
   "source": [
    "> Note: we have to take care about the type of the input ourselves, python3 by default coverts all the inputs into a string."
   ]
  },
  {
   "cell_type": "code",
   "execution_count": 13,
   "metadata": {},
   "outputs": [
    {
     "name": "stdout",
     "output_type": "stream",
     "text": [
      "Enter the temperature in celsius: 13\n",
      "Enter the name of the city: moscow\n",
      "Enter the rainfall in mm: 20\n",
      "In the city  moscow  the temp is  13.0  rainfall in mm is  20.0\n"
     ]
    }
   ],
   "source": [
    "temp = float(input('Enter the temperature in celsius: ')) #explicit conversion to float\n",
    "city = input('Enter the name of the city: ')\n",
    "rain = float(input('Enter the rainfall in mm: '))\n",
    "print('In the city ', city , ' the temp is ',temp , ' rainfall in mm is ', rain)"
   ]
  },
  {
   "cell_type": "code",
   "execution_count": null,
   "metadata": {},
   "outputs": [],
   "source": []
  }
 ],
 "metadata": {
  "kernelspec": {
   "display_name": "Python 3",
   "language": "python",
   "name": "python3"
  },
  "language_info": {
   "codemirror_mode": {
    "name": "ipython",
    "version": 3
   },
   "file_extension": ".py",
   "mimetype": "text/x-python",
   "name": "python",
   "nbconvert_exporter": "python",
   "pygments_lexer": "ipython3",
   "version": "3.7.5"
  }
 },
 "nbformat": 4,
 "nbformat_minor": 2
}
