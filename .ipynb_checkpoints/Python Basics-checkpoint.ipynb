{
 "cells": [
  {
   "attachments": {},
   "cell_type": "markdown",
   "metadata": {},
   "source": [
    "# Python Introduction\n",
    "\n",
    "## Why Scientific Programming?\n",
    "\n",
    "### How Programming help us?\n",
    "\n",
    "- Building and organizing Knowledge\n",
    "  - Eg: by building databases of scientific results\n",
    "\n",
    "- Test Explanation about our world\n",
    "  - Eg: by automating experiments\n",
    "\n",
    "- Systematically\n",
    "  - by reducing the risk of human error\n",
    "\n",
    "- Objectively\n",
    "  - Computers are not subject to human biases (however computer programs are)\n",
    "\n",
    "- Transparently\n",
    "  - By using opensource tools and sharing our analyses\n",
    "\n",
    "- Reproducibly\n",
    "  - by codifying our analyses we make them reproducible\n",
    "  \n",
    "## Why python ?\n",
    " \n",
    " - ___Interpreted___ and ___dynamically typed___ language.\n",
    " - Great ecosystem and great community\n",
    " \n",
    " - __Better than Matlab__\n",
    "      - As a free and open source project you can save money and share your results.\n",
    " - __Better than Java__\n",
    "      - Get more done is less code and without overly complex object orientation.\n",
    " - __Better than C++ (atleast for science)__\n",
    "      - With a great ecosystem and community you can get stuff done, instead of tring to figure out documentation.\n",
    " - __Better than R__\n",
    "      - As a general purpose programming language you can do anything with Python not just Statistics.\n",
    " - __Better than Julia__\n",
    "      - Python is more versatile and mature. Julia is interesting if you write algorithms.\n",
    " \n"
   ]
  },
  {
   "cell_type": "markdown",
   "metadata": {},
   "source": [
    "### Interpreted vs Compiled Programming Language.\n",
    "\n",
    "Taken from [Stackoverflow](https://stackoverflow.com/questions/3265357/compiled-vs-interpreted-languages)\n",
    "\n",
    "\n",
    "\n",
    "The first thing which we need to understand is that `a language is neither compiled nor interpreted only a specific implementation of the language is. `\n",
    "Example:\n",
    "Java Language comes in both flavours.\n",
    "- Bytecode based platform __JVM__\n",
    "- Native compiler __gcj__\n",
    "- An interpreter for the superset of java __bsh__\n",
    "\n",
    "Therefore there exist 3 versions of java\n",
    "- Bytecode compiled\n",
    "- Native compiled\n",
    "- Interpreted\n",
    "\n",
    "Now the difference between compiled and interpreted languages.\n",
    "\n",
    "\n",
    "\n",
    "A compiled language is one where `the program, once compiled, is expressed in the instructions of the target machine`. For example, an addition \"+\" operation in your source code could be translated directly to the \"ADD\" instruction in machine code.\n",
    "\n",
    "An interpreted language is one where `the instructions are not directly executed by the target machine, but instead read and executed by some other program (which normally is written in the language of the native machine)`. For example, the same \"+\" operation would be recognised by the interpreter at run time, which would then call its own \"add(a,b)\" function with the appropriate arguments, which would then execute the machine code \"ADD\" instruction.\n",
    "\n",
    "> ### You can do anything that you can do in an interpreted language in a compiled language and vice-versa - they are both Turing complete. Both however have advantages and disadvantages for implementation and use.\n",
    "\n",
    "I'm going to completely generalise (purists forgive me!) but, roughly, here are the advantages of compiled languages:\n",
    "\n",
    "- Faster performance by directly using the native code of the target machine\n",
    "- Opportunity to apply quite powerful optimisations during the compile stage\n",
    "\n",
    "And here are the advantages of interpreted languages:\n",
    "\n",
    "- Easier to implement (writing good compilers is very hard!!)\n",
    "- No need to run a compilation stage: can execute code directly \"on the fly\"\n",
    "- Can be more convenient for dynamic languages\n",
    "\n",
    "Note that modern techniques such as bytecode compilation add some extra complexity - what happens here is that the compiler targets a \"virtual machine\" which is not the same as the underlying hardware. These virtual machine instructions can then be compiled again at a later stage to get native code (e.g. as done by the Java JVM JIT compiler).\n",
    "\n"
   ]
  },
  {
   "cell_type": "markdown",
   "metadata": {},
   "source": [
    "Program to get a user input and print it out."
   ]
  },
  {
   "cell_type": "code",
   "execution_count": 2,
   "metadata": {},
   "outputs": [
    {
     "name": "stdout",
     "output_type": "stream",
     "text": [
      "13.0\n"
     ]
    }
   ],
   "source": [
    "temp = 13.0\n",
    "print(temp)"
   ]
  },
  {
   "cell_type": "code",
   "execution_count": 3,
   "metadata": {},
   "outputs": [
    {
     "name": "stdout",
     "output_type": "stream",
     "text": [
      "Enter the temperture in celcius25\n",
      "25\n"
     ]
    }
   ],
   "source": [
    "temp = input('Enter the temperture in celcius')\n",
    "print(temp)"
   ]
  },
  {
   "cell_type": "code",
   "execution_count": 4,
   "metadata": {},
   "outputs": [
    {
     "name": "stdout",
     "output_type": "stream",
     "text": [
      "Enter the temperture in celcius25.0\n",
      "25.0\n"
     ]
    }
   ],
   "source": [
    "temp = input('Enter the temperture in celcius')\n",
    "print(temp)"
   ]
  },
  {
   "cell_type": "code",
   "execution_count": 5,
   "metadata": {},
   "outputs": [
    {
     "name": "stdout",
     "output_type": "stream",
     "text": [
      "Enter the temperture in celciusDenmark\n",
      "Denmark\n"
     ]
    }
   ],
   "source": [
    "temp = input('Enter the temperture in celcius')\n",
    "print(temp)"
   ]
  },
  {
   "cell_type": "markdown",
   "metadata": {},
   "source": [
    " ### `input([prompt])`\n",
    " If the prompt argument is present, it is written to standard output `without a trailing newline`. The function then reads a line from input, `converts it to a string (stripping a trailing newline)`, and returns that. When EOF is read, EOFError is raised. \n"
   ]
  },
  {
   "cell_type": "code",
   "execution_count": 6,
   "metadata": {},
   "outputs": [
    {
     "name": "stdout",
     "output_type": "stream",
     "text": [
      "Enter the temperature in celsiusDenmark\n"
     ]
    },
    {
     "ename": "ValueError",
     "evalue": "could not convert string to float: 'Denmark'",
     "output_type": "error",
     "traceback": [
      "\u001b[0;31m---------------------------------------------------------------------------\u001b[0m",
      "\u001b[0;31mValueError\u001b[0m                                Traceback (most recent call last)",
      "\u001b[0;32m<ipython-input-6-c10eca60121c>\u001b[0m in \u001b[0;36m<module>\u001b[0;34m\u001b[0m\n\u001b[0;32m----> 1\u001b[0;31m \u001b[0mtemp\u001b[0m \u001b[0;34m=\u001b[0m \u001b[0mfloat\u001b[0m\u001b[0;34m(\u001b[0m\u001b[0minput\u001b[0m\u001b[0;34m(\u001b[0m\u001b[0;34m'Enter the temperature in celsius'\u001b[0m\u001b[0;34m)\u001b[0m\u001b[0;34m)\u001b[0m\u001b[0;34m\u001b[0m\u001b[0;34m\u001b[0m\u001b[0m\n\u001b[0m\u001b[1;32m      2\u001b[0m \u001b[0mprint\u001b[0m\u001b[0;34m(\u001b[0m\u001b[0mtemp\u001b[0m\u001b[0;34m)\u001b[0m\u001b[0;34m\u001b[0m\u001b[0;34m\u001b[0m\u001b[0m\n",
      "\u001b[0;31mValueError\u001b[0m: could not convert string to float: 'Denmark'"
     ]
    }
   ],
   "source": [
    "temp = float(input('Enter the temperature in celsius'))\n",
    "print(temp)"
   ]
  },
  {
   "cell_type": "markdown",
   "metadata": {},
   "source": [
    "> Note: we have to take care about the type of the input ourselves, python3 by default coverts all the inputs into a string."
   ]
  },
  {
   "cell_type": "code",
   "execution_count": 13,
   "metadata": {},
   "outputs": [
    {
     "name": "stdout",
     "output_type": "stream",
     "text": [
      "Enter the temperature in celsius: 13\n",
      "Enter the name of the city: moscow\n",
      "Enter the rainfall in mm: 20\n",
      "In the city  moscow  the temp is  13.0  rainfall in mm is  20.0\n"
     ]
    }
   ],
   "source": [
    "temp = float(input('Enter the temperature in celsius: ')) #explicit conversion to float\n",
    "city = input('Enter the name of the city: ')\n",
    "rain = float(input('Enter the rainfall in mm: '))\n",
    "print('In the city ', city , ' the temp is ',temp , ' rainfall in mm is ', rain)"
   ]
  },
  {
   "cell_type": "code",
   "execution_count": null,
   "metadata": {},
   "outputs": [],
   "source": []
  }
 ],
 "metadata": {
  "kernelspec": {
   "display_name": "Python 3",
   "language": "python",
   "name": "python3"
  },
  "language_info": {
   "codemirror_mode": {
    "name": "ipython",
    "version": 3
   },
   "file_extension": ".py",
   "mimetype": "text/x-python",
   "name": "python",
   "nbconvert_exporter": "python",
   "pygments_lexer": "ipython3",
   "version": "3.7.5"
  }
 },
 "nbformat": 4,
 "nbformat_minor": 2
}
