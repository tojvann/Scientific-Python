{
 "cells": [
  {
   "cell_type": "markdown",
   "metadata": {},
   "source": [
    "# Functions, Scoping and Abstractions\n",
    "\n",
    "Numbers, Assignments, Input/Output, Comparisons,and looping constructs.\n",
    "All of the above constructs are turing complete, i.e. if a problem can be solved by computation it can be solved only using the above statements.\n",
    "> The\n",
    "more code a program contains, the more chance there is for something to go\n",
    "wrong, and the harder the code is to maintain.\n",
    "\n",
    "Python provides several linguistic features that make it relatively easy to gen-\n",
    "eralize and reuse code. The most important is the function.\n",
    "\n",
    "## Functions and Scoping\n",
    "\n",
    "### Function Definitions\n",
    "In Python each function definition is of the form\n",
    "\n",
    "```\n",
    "def name of function ( list of formal parameters ):\n",
    "    body of function\n",
    "```\n"
   ]
  },
  {
   "cell_type": "code",
   "execution_count": 1,
   "metadata": {},
   "outputs": [],
   "source": [
    "def maxVal(x, y):\n",
    "    if x > y:\n",
    "        return x\n",
    "    else:\n",
    "        return y"
   ]
  },
  {
   "cell_type": "markdown",
   "metadata": {},
   "source": [
    "`def` is a reserved word that tells Python that a function is about to be defined."
   ]
  },
  {
   "cell_type": "markdown",
   "metadata": {},
   "source": [
    "The sequence of names within the parentheses following the function name are the __formal parameters__ of the function. When the function is used, the formal parameters are bound (as in an assignment statement) to the actual parameters (often referred to as arguments) of the function invocation\n",
    "(also referred to as a function call)."
   ]
  },
  {
   "cell_type": "markdown",
   "metadata": {},
   "source": [
    "A function call is an expression, and like all expressions it has a value. That value is the value returned by the invoked function. For example, the value of the\n",
    "expression maxVal(3,4)\\*maxVal(3,2) is 12 , because the first invocation of maxVal returns the int 4 and the second returns the int 3 . Note that execution of a return\n",
    "statement terminates an invocation of the function.\n",
    "\n",
    "__when a function is called:__\n",
    "\n",
    "- The expressions that make up the actual parameters are evaluated, and the formal parameters of the function are bound to the resulting values. For example, the invocation maxVal(3+4, z) will bind the formal parameter x to 7 and the formal parameter y to whatever value the variable z has when the invocation is evaluated.\n",
    "\n",
    "- The point of execution (the next instruction to be executed) moves from the point of invocation to the first statement in the body of the function.\n",
    "\n",
    "- The code in the body of the function is executed until either a return statement is encountered, in which case the value of the expression following the return becomes the value of the function invocation, or there are no more statements to execute, in which case the function returns the value None . (If no expression follows the return , the value of the invocation is None .)\n",
    "\n",
    "- The value of the invocation is the returned value.\n",
    "\n",
    "- The point of execution is transferred back to the code immediately following the invocation."
   ]
  },
  {
   "cell_type": "markdown",
   "metadata": {},
   "source": [
    "> Parameters provide something called __lambda abstraction__, allowing programmers to write code that manipulates not specific objects, but instead whatever objects the caller of the function chooses to use as actual parameters.\n"
   ]
  },
  {
   "cell_type": "markdown",
   "metadata": {},
   "source": [
    "`Exercise:`\n",
    "    \n",
    "Write a function isIn that accepts two strings as arguments and\n",
    "returns True if either string occurs anywhere in the other, and False otherwise."
   ]
  },
  {
   "cell_type": "code",
   "execution_count": 3,
   "metadata": {},
   "outputs": [
    {
     "name": "stdout",
     "output_type": "stream",
     "text": [
      "True\n"
     ]
    }
   ],
   "source": [
    "def isIn(s1 ,s2):\n",
    "    if s1 in s2:\n",
    "        return True\n",
    "    elif s2 in s1:\n",
    "        return True\n",
    "    else:\n",
    "        return False\n",
    "print(isIn('abc', 'abcdefghijk'))    "
   ]
  },
  {
   "cell_type": "markdown",
   "metadata": {},
   "source": [
    "## Keyword Arguments and Default Values\n",
    "\n",
    "In python there are 2 ways that Formal parameters get bound to Actual parameters:\n",
    "\n",
    "- __Positional__: The first formal parameter is bound to the first actual parameter, the second formal to the secon actual etc.\n",
    "\n",
    "- __Keyword arguments__: formals are bound to actuals using the name of the formal parameter."
   ]
  },
  {
   "cell_type": "code",
   "execution_count": 7,
   "metadata": {},
   "outputs": [
    {
     "name": "stdout",
     "output_type": "stream",
     "text": [
      "tojvann Hgnis\n",
      "tojvann Hgnis\n",
      "tojvann Hgnis\n"
     ]
    }
   ],
   "source": [
    "# Keyword Arguments\n",
    "\n",
    "def printName(firstName, lastName, reverse):\n",
    "    if reverse:\n",
    "        print(lastName + ', '+ firstName)\n",
    "    else:\n",
    "        print(firstName, lastName)\n",
    "printName('tojvann', 'Hgnis', False)  \n",
    "printName('tojvann', 'Hgnis', reverse = False)  \n",
    "printName(lastName = 'Hgnis',firstName = 'tojvann',reverse = False)  "
   ]
  },
  {
   "cell_type": "code",
   "execution_count": 9,
   "metadata": {},
   "outputs": [
    {
     "ename": "SyntaxError",
     "evalue": "positional argument follows keyword argument (<ipython-input-9-d04c717c69e2>, line 1)",
     "output_type": "error",
     "traceback": [
      "\u001b[0;36m  File \u001b[0;32m\"<ipython-input-9-d04c717c69e2>\"\u001b[0;36m, line \u001b[0;32m1\u001b[0m\n\u001b[0;31m    printName('tojvann', lastName = 'Hgnis', False)\u001b[0m\n\u001b[0m                                            ^\u001b[0m\n\u001b[0;31mSyntaxError\u001b[0m\u001b[0;31m:\u001b[0m positional argument follows keyword argument\n"
     ]
    }
   ],
   "source": [
    "printName('tojvann', lastName = 'Hgnis', False)"
   ]
  },
  {
   "cell_type": "markdown",
   "metadata": {},
   "source": [
    "Though the keyword arguments can appear in any order in the list of actual parameters, it is not legal to follow a keyword argument with a non-keyword argument. Therefore, an error message is produced"
   ]
  },
  {
   "cell_type": "markdown",
   "metadata": {},
   "source": [
    "Keyword arguments are commonly used in conjunction with default parameter values."
   ]
  },
  {
   "cell_type": "code",
   "execution_count": 10,
   "metadata": {},
   "outputs": [
    {
     "name": "stdout",
     "output_type": "stream",
     "text": [
      "tojvann Hgnis\n",
      "Hgnis, tojvann\n",
      "Hgnis, tojvann\n"
     ]
    }
   ],
   "source": [
    "def printName(firstName, lastName, reverse = False):\n",
    "    if reverse:\n",
    "           print(lastName + ', '+ firstName)\n",
    "    else:\n",
    "        print(firstName, lastName)\n",
    "        \n",
    "printName('tojvann', 'Hgnis')\n",
    "printName('tojvann', 'Hgnis', True)\n",
    "printName('tojvann', 'Hgnis', reverse = True)\n",
    "\n"
   ]
  },
  {
   "cell_type": "markdown",
   "metadata": {},
   "source": [
    "Default values allow programmers to call a function with fewer than the specified number of arguments."
   ]
  },
  {
   "cell_type": "markdown",
   "metadata": {},
   "source": [
    "## Scoping\n"
   ]
  },
  {
   "cell_type": "code",
   "execution_count": 12,
   "metadata": {},
   "outputs": [
    {
     "name": "stdout",
     "output_type": "stream",
     "text": [
      "x is  4\n",
      "z is  4\n",
      "x is  3\n",
      "y is  2\n"
     ]
    }
   ],
   "source": [
    "def f(x):\n",
    "    y = 1\n",
    "    x = x + y\n",
    "    print('x is ', x)\n",
    "    return x\n",
    "\n",
    "x = 3\n",
    "y = 2\n",
    "z = f(x)\n",
    "print('z is ', z)\n",
    "print('x is ', x)\n",
    "print('y is ', y)\n"
   ]
  },
  {
   "cell_type": "markdown",
   "metadata": {},
   "source": [
    "At the call of f , the formal parameter x is locally bound to the value of the actual parameter x . It is important to note that though the actual and formal parameters have the same name, they are not the same variable.\n",
    "\n",
    "### Each function defines a new name space, also called a scope.\n",
    "\n",
    "The formal parameter x and the local variable y that are used in f exist only within the scope of the definition of f . The assignment statement x = x + y within the function body binds the local name x to the object 4 . The assignments in f have no effect at all on the bindings of the names x and y that exist outside the scope of f ."
   ]
  },
  {
   "cell_type": "markdown",
   "metadata": {},
   "source": [
    "### Deeper understanding\n",
    "\n",
    "- At top level, i.e., the level of the shell, a symbol table keeps track of all names defined at that level and their current bindings.\n",
    "\n",
    "- When a function is called, a new symbol table (often called a stack frame) is created. This table keeps track of all names defined within the function (inluding the formal parameters) and their current bindings. If a function iscalled from within the function body, yet another stack frame is created.\n",
    "\n",
    "- When the function completes, its stack frame goes away.\n",
    "\n",
    "\n",
    "In Python, one can always determine the scope of a name by looking at the program text. This is called __static__ or __lexical__ scoping.\n",
    "\n",
    "`Learning from an example.`\n",
    "\n"
   ]
  },
  {
   "cell_type": "code",
   "execution_count": 13,
   "metadata": {},
   "outputs": [
    {
     "name": "stdout",
     "output_type": "stream",
     "text": [
      "x is 4\n",
      "z is 4\n",
      "x is abc\n",
      "x is 4\n",
      "x is 3\n",
      "z is <function f.<locals>.g at 0x7fb4642838c0>\n",
      "x is abc\n"
     ]
    }
   ],
   "source": [
    "def f(x):\n",
    "    def g():\n",
    "        x = 'abc'\n",
    "        print('x is', x)\n",
    "    def h():\n",
    "        z = x\n",
    "        print('z is', z)\n",
    "    x = x + 1\n",
    "    print('x is', x)\n",
    "    h()\n",
    "    g()\n",
    "    print('x is', x)\n",
    "    return g\n",
    "\n",
    "x = 3\n",
    "z = f(x)\n",
    "print('x is', x)\n",
    "print('z is', z)\n",
    "z()"
   ]
  },
  {
   "cell_type": "markdown",
   "metadata": {},
   "source": [
    "Understanding:\n",
    "\n",
    "![](https://imgur.com/p9bBslr.png)\n"
   ]
  },
  {
   "cell_type": "markdown",
   "metadata": {},
   "source": [
    "- The first column contains the set of names known outside the body of the function f , i.e., the variables x and z , and the function name f.\n",
    "\n",
    "  - The first assignment statement binds x to 3 .\n",
    "\n",
    "  - The assignment statement z = f(x) first evaluates the expression f(x) by invoking the function f with the value to which x is bound.\n",
    "\n",
    "- When f is entered, a stack frame is created, as shown in column 2. \n",
    "    \n",
    "    - The names in the stack frame are x (the formal parameter, not the x in the calling context), g and h . The variables g and h are bound to objects of type function . The properties of these functions are given by the function definitions within f .\n",
    "    \n",
    "- When h is invoked from within f , yet another stack frame is created, as shown in column 3.  \n",
    "\n",
    "  - This frame contains only the local variable z . Why does it not also contain x ? A name is added to the scope associated with a function only if that name is either a formal parameter of the function or a variable that is bound to an object within the body of the function. In the body of h , x occurs only on the right-hand side of an assignment statement.\n",
    "  \n",
    "  -  The appearance of a name ( x in this case) that is not bound to an object anywhere in the function body (the body of h ) causes the interpreter to search the stack frame associated with the scope within which the function is defined (the stack frame associated with f ). If the name is found (which it is in this case) the value to which it is bound ( 4 ) is used. If it is not found there, an error message is produced.\n",
    "\n",
    "  - When h returns, the stack frame associated with the invocation of h goes away (it is popped off the top of the stack), as depicted in column 4. Note that we never remove frames from the middle of the stack, but only the most recently added frame. It is because it has this “last in first out” behavior that we refer to it as a stack\n",
    "\n",
    "- Next g is invoked, and a stack frame containing g ’s local variable x is added (column 5).\n",
    "\n",
    "- When g returns, that frame is popped (column 6).\n",
    "\n",
    "- When f returns, the stack frame containing the names associated with f is popped, getting us back to the original stack frame (column 7 ).\n",
    "\n",
    "`Notice that when f returns, even though the variable g no longer exists, the object of type function to which that name was once bound still exists. This is because functions are objects, and can be returned just like any other kind of object.`\n",
    "\n",
    "So, z can be bound to the value returned by f , and the function call z() can be used to invoke the function that was bound to the name g within f —even though the name g is not known outside the context of f .\n",
    "\n",
    "`This is a way of accessing nested functions which are otherwise inaccessible from outside the scope in which they yare defined`\n",
    "\n",
    "The order in which references to a name occur is not germane(not relevant). If an object is bound to a name anywhere in the function body (even if it occurs in an expression before it appears as the left-hand side of an assignment), it is treated as local to that function.\n",
    "\n",
    "For Example:"
   ]
  },
  {
   "cell_type": "code",
   "execution_count": 16,
   "metadata": {},
   "outputs": [
    {
     "name": "stdout",
     "output_type": "stream",
     "text": [
      "3\n"
     ]
    },
    {
     "ename": "UnboundLocalError",
     "evalue": "local variable 'x' referenced before assignment",
     "output_type": "error",
     "traceback": [
      "\u001b[0;31m---------------------------------------------------------------------------\u001b[0m",
      "\u001b[0;31mUnboundLocalError\u001b[0m                         Traceback (most recent call last)",
      "\u001b[0;32m<ipython-input-16-67b124b6c405>\u001b[0m in \u001b[0;36m<module>\u001b[0;34m\u001b[0m\n\u001b[1;32m      8\u001b[0m \u001b[0mf\u001b[0m\u001b[0;34m(\u001b[0m\u001b[0;34m)\u001b[0m\u001b[0;34m\u001b[0m\u001b[0;34m\u001b[0m\u001b[0m\n\u001b[1;32m      9\u001b[0m \u001b[0mx\u001b[0m \u001b[0;34m=\u001b[0m \u001b[0;36m3\u001b[0m\u001b[0;34m\u001b[0m\u001b[0;34m\u001b[0m\u001b[0m\n\u001b[0;32m---> 10\u001b[0;31m \u001b[0mg\u001b[0m\u001b[0;34m(\u001b[0m\u001b[0;34m)\u001b[0m\u001b[0;34m\u001b[0m\u001b[0;34m\u001b[0m\u001b[0m\n\u001b[0m",
      "\u001b[0;32m<ipython-input-16-67b124b6c405>\u001b[0m in \u001b[0;36mg\u001b[0;34m()\u001b[0m\n\u001b[1;32m      2\u001b[0m     \u001b[0mprint\u001b[0m\u001b[0;34m(\u001b[0m\u001b[0mx\u001b[0m\u001b[0;34m)\u001b[0m\u001b[0;34m\u001b[0m\u001b[0;34m\u001b[0m\u001b[0m\n\u001b[1;32m      3\u001b[0m \u001b[0;32mdef\u001b[0m \u001b[0mg\u001b[0m\u001b[0;34m(\u001b[0m\u001b[0;34m)\u001b[0m\u001b[0;34m:\u001b[0m\u001b[0;34m\u001b[0m\u001b[0;34m\u001b[0m\u001b[0m\n\u001b[0;32m----> 4\u001b[0;31m     \u001b[0mprint\u001b[0m\u001b[0;34m(\u001b[0m\u001b[0mx\u001b[0m\u001b[0;34m)\u001b[0m\u001b[0;34m\u001b[0m\u001b[0;34m\u001b[0m\u001b[0m\n\u001b[0m\u001b[1;32m      5\u001b[0m     \u001b[0mx\u001b[0m \u001b[0;34m=\u001b[0m \u001b[0;36m1\u001b[0m\u001b[0;34m\u001b[0m\u001b[0;34m\u001b[0m\u001b[0m\n\u001b[1;32m      6\u001b[0m \u001b[0;34m\u001b[0m\u001b[0m\n",
      "\u001b[0;31mUnboundLocalError\u001b[0m: local variable 'x' referenced before assignment"
     ]
    }
   ],
   "source": [
    "def f():\n",
    "    print(x)\n",
    "def g():\n",
    "    print(x)\n",
    "    x = 1\n",
    "\n",
    "x = 3\n",
    "f()\n",
    "x = 3\n",
    "g()"
   ]
  },
  {
   "cell_type": "markdown",
   "metadata": {},
   "source": [
    "The error is printed when the print statement in g is encountered. This happens because the assignment statement following the print statement causes x to be local to g .\n",
    "And because x is local to g , it has no value when the print statement is executed."
   ]
  },
  {
   "cell_type": "code",
   "execution_count": null,
   "metadata": {},
   "outputs": [],
   "source": []
  }
 ],
 "metadata": {
  "kernelspec": {
   "display_name": "Python 3",
   "language": "python",
   "name": "python3"
  },
  "language_info": {
   "codemirror_mode": {
    "name": "ipython",
    "version": 3
   },
   "file_extension": ".py",
   "mimetype": "text/x-python",
   "name": "python",
   "nbconvert_exporter": "python",
   "pygments_lexer": "ipython3",
   "version": "3.7.5"
  }
 },
 "nbformat": 4,
 "nbformat_minor": 2
}
