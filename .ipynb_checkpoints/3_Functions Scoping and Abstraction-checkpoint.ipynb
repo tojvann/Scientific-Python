{
 "cells": [
  {
   "cell_type": "markdown",
   "metadata": {},
   "source": [
    "# Functions, Scoping and Abstractions\n",
    "\n",
    "Numbers, Assignments, Input/Output, Comparisons,and looping constructs.\n",
    "All of the above constructs are turing complete, i.e. if a problem can be solved by computation it can be solved only using the above statements.\n",
    "> The\n",
    "more code a program contains, the more chance there is for something to go\n",
    "wrong, and the harder the code is to maintain.\n",
    "\n",
    "Python provides several linguistic features that make it relatively easy to gen-\n",
    "eralize and reuse code. The most important is the function.\n",
    "\n",
    "## Functions and Scoping\n",
    "\n",
    "### Function Definitions\n",
    "In Python each function definition is of the form\n",
    "\n",
    "```\n",
    "def name of function ( list of formal parameters ):\n",
    "    body of function\n",
    "```\n"
   ]
  },
  {
   "cell_type": "code",
   "execution_count": 1,
   "metadata": {},
   "outputs": [],
   "source": [
    "def maxVal(x, y):\n",
    "    if x > y:\n",
    "        return x\n",
    "    else:\n",
    "        return y"
   ]
  },
  {
   "cell_type": "markdown",
   "metadata": {},
   "source": [
    "`def` is a reserved word that tells Python that a function is about to be defined."
   ]
  },
  {
   "cell_type": "markdown",
   "metadata": {},
   "source": [
    "The sequence of names within the parentheses following the function name are the __formal parameters__ of the function. When the function is used, the formal parameters are bound (as in an assignment statement) to the actual parameters (often referred to as arguments) of the function invocation\n",
    "(also referred to as a function call)."
   ]
  },
  {
   "cell_type": "markdown",
   "metadata": {},
   "source": [
    "A function call is an expression, and like all expressions it has a value. That value is the value returned by the invoked function. For example, the value of the\n",
    "expression maxVal(3,4)\\*maxVal(3,2) is 12 , because the first invocation of maxVal returns the int 4 and the second returns the int 3 . Note that execution of a return\n",
    "statement terminates an invocation of the function.\n",
    "\n",
    "__when a function is called:__\n",
    "\n",
    "- The expressions that make up the actual parameters are evaluated, and the formal parameters of the function are bound to the resulting values. For example, the invocation maxVal(3+4, z) will bind the formal parameter x to 7 and the formal parameter y to whatever value the variable z has when the invocation is evaluated.\n",
    "\n",
    "- The point of execution (the next instruction to be executed) moves from the point of invocation to the first statement in the body of the function.\n",
    "\n",
    "- The code in the body of the function is executed until either a return statement is encountered, in which case the value of the expression following the return becomes the value of the function invocation, or there are no more statements to execute, in which case the function returns the value None . (If no expression follows the return , the value of the invocation is None .)\n",
    "\n",
    "- The value of the invocation is the returned value.\n",
    "\n",
    "- The point of execution is transferred back to the code immediately following the invocation."
   ]
  },
  {
   "cell_type": "markdown",
   "metadata": {},
   "source": [
    "> Parameters provide something called __lambda abstraction__, allowing programmers to write code that manipulates not specific objects, but instead whatever objects the caller of the function chooses to use as actual parameters.\n"
   ]
  },
  {
   "cell_type": "markdown",
   "metadata": {},
   "source": [
    "`Exercise:`\n",
    "    \n",
    "Write a function isIn that accepts two strings as arguments and\n",
    "returns True if either string occurs anywhere in the other, and False otherwise."
   ]
  },
  {
   "cell_type": "code",
   "execution_count": 3,
   "metadata": {},
   "outputs": [
    {
     "name": "stdout",
     "output_type": "stream",
     "text": [
      "True\n"
     ]
    }
   ],
   "source": [
    "def isIn(s1 ,s2):\n",
    "    if s1 in s2:\n",
    "        return True\n",
    "    elif s2 in s1:\n",
    "        return True\n",
    "    else:\n",
    "        return False\n",
    "print(isIn('abc', 'abcdefghijk'))    "
   ]
  },
  {
   "cell_type": "markdown",
   "metadata": {},
   "source": [
    "## Keyword Arguments and Default Values\n",
    "\n",
    "In python there are 2 ways that Formal parameters get bound to Actual parameters:\n",
    "\n",
    "- __Positional__: The first formal parameter is bound to the first actual parameter, the second formal to the secon actual etc.\n",
    "\n",
    "- __Keyword arguments__: formals are bound to actuals using the name of the formal parameter."
   ]
  },
  {
   "cell_type": "code",
   "execution_count": 7,
   "metadata": {},
   "outputs": [
    {
     "name": "stdout",
     "output_type": "stream",
     "text": [
      "tojvann Hgnis\n",
      "tojvann Hgnis\n",
      "tojvann Hgnis\n"
     ]
    }
   ],
   "source": [
    "# Keyword Arguments\n",
    "\n",
    "def printName(firstName, lastName, reverse):\n",
    "    if reverse:\n",
    "        print(lastName + ', '+ firstName)\n",
    "    else:\n",
    "        print(firstName, lastName)\n",
    "printName('tojvann', 'Hgnis', False)  \n",
    "printName('tojvann', 'Hgnis', reverse = False)  \n",
    "printName(lastName = 'Hgnis',firstName = 'tojvann',reverse = False)  "
   ]
  },
  {
   "cell_type": "code",
   "execution_count": 9,
   "metadata": {},
   "outputs": [
    {
     "ename": "SyntaxError",
     "evalue": "positional argument follows keyword argument (<ipython-input-9-d04c717c69e2>, line 1)",
     "output_type": "error",
     "traceback": [
      "\u001b[0;36m  File \u001b[0;32m\"<ipython-input-9-d04c717c69e2>\"\u001b[0;36m, line \u001b[0;32m1\u001b[0m\n\u001b[0;31m    printName('tojvann', lastName = 'Hgnis', False)\u001b[0m\n\u001b[0m                                            ^\u001b[0m\n\u001b[0;31mSyntaxError\u001b[0m\u001b[0;31m:\u001b[0m positional argument follows keyword argument\n"
     ]
    }
   ],
   "source": [
    "printName('tojvann', lastName = 'Hgnis', False)"
   ]
  },
  {
   "cell_type": "markdown",
   "metadata": {},
   "source": [
    "Though the keyword arguments can appear in any order in the list of actual parameters, it is not legal to follow a keyword argument with a non-keyword argument. Therefore, an error message is produced"
   ]
  },
  {
   "cell_type": "markdown",
   "metadata": {},
   "source": [
    "Keyword arguments are commonly used in conjunction with default parameter values."
   ]
  },
  {
   "cell_type": "code",
   "execution_count": 10,
   "metadata": {},
   "outputs": [
    {
     "name": "stdout",
     "output_type": "stream",
     "text": [
      "tojvann Hgnis\n",
      "Hgnis, tojvann\n",
      "Hgnis, tojvann\n"
     ]
    }
   ],
   "source": [
    "def printName(firstName, lastName, reverse = False):\n",
    "    if reverse:\n",
    "           print(lastName + ', '+ firstName)\n",
    "    else:\n",
    "        print(firstName, lastName)\n",
    "        \n",
    "printName('tojvann', 'Hgnis')\n",
    "printName('tojvann', 'Hgnis', True)\n",
    "printName('tojvann', 'Hgnis', reverse = True)\n",
    "\n"
   ]
  },
  {
   "cell_type": "markdown",
   "metadata": {},
   "source": [
    "Default values allow programmers to call a function with fewer than the specified number of arguments."
   ]
  },
  {
   "cell_type": "markdown",
   "metadata": {},
   "source": [
    "## Scoping\n"
   ]
  }
 ],
 "metadata": {
  "kernelspec": {
   "display_name": "Python 3",
   "language": "python",
   "name": "python3"
  },
  "language_info": {
   "codemirror_mode": {
    "name": "ipython",
    "version": 3
   },
   "file_extension": ".py",
   "mimetype": "text/x-python",
   "name": "python",
   "nbconvert_exporter": "python",
   "pygments_lexer": "ipython3",
   "version": "3.7.5"
  }
 },
 "nbformat": 4,
 "nbformat_minor": 2
}
